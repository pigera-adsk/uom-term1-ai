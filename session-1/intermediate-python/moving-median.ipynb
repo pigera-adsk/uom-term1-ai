{
 "cells": [
  {
   "cell_type": "markdown",
   "id": "e17f95fc",
   "metadata": {},
   "source": [
    "Exercise\n",
    "\n",
    "\n",
    "Override the statistics.median function to compute the moving median of a list of numbers. (Hint: Use a generator to yield the median after each new number is added to the list.)"
   ]
  },
  {
   "cell_type": "code",
   "execution_count": 16,
   "id": "b69ebce0",
   "metadata": {},
   "outputs": [],
   "source": [
    "import statistics"
   ]
  },
  {
   "cell_type": "code",
   "execution_count": 17,
   "id": "86080a6b",
   "metadata": {},
   "outputs": [],
   "source": [
    "def moving_median(values):\n",
    "    \"\"\"\n",
    "    A generator that yields the moving median of a sequence of numbers.\n",
    "    \"\"\"\n",
    "\n",
    "    considered = []\n",
    "    for value in values:\n",
    "        considered.append(value)\n",
    "        considered.sort()\n",
    "        if len(considered) % 2 == 1:\n",
    "            median = considered[len(considered) // 2]\n",
    "        else:\n",
    "            median = (considered[len(considered) // 2 - 1] + considered[len(considered) // 2]) / 2\n",
    "        yield median\n",
    "\n",
    "\n",
    "#Overriding the built-in median function\n",
    "statistics.median = moving_median"
   ]
  },
  {
   "cell_type": "code",
   "execution_count": 18,
   "id": "3504ae04",
   "metadata": {},
   "outputs": [
    {
     "name": "stdout",
     "output_type": "stream",
     "text": [
      "<generator object moving_median at 0x00000233DEFBAC50>\n",
      "5\n",
      "3.5\n",
      "5\n",
      "3.5\n",
      "5\n",
      "5.0\n"
     ]
    }
   ],
   "source": [
    "#Example use\n",
    "\n",
    "data = [5, 2, 9, 1, 5, 6]\n",
    "\n",
    "example = statistics.median(data)\n",
    "print(example)\n",
    "for i in example:\n",
    "    print(i)"
   ]
  }
 ],
 "metadata": {
  "kernelspec": {
   "display_name": "Python 3",
   "language": "python",
   "name": "python3"
  },
  "language_info": {
   "codemirror_mode": {
    "name": "ipython",
    "version": 3
   },
   "file_extension": ".py",
   "mimetype": "text/x-python",
   "name": "python",
   "nbconvert_exporter": "python",
   "pygments_lexer": "ipython3",
   "version": "3.13.0"
  }
 },
 "nbformat": 4,
 "nbformat_minor": 5
}
